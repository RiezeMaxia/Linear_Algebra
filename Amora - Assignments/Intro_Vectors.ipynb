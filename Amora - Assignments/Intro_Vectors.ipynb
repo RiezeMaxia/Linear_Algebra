{
 "cells": [
  {
   "cell_type": "code",
   "execution_count": 2,
   "id": "bfe2fc24-bb0f-4398-bd32-b7feefcd3b0e",
   "metadata": {},
   "outputs": [],
   "source": [
    "import numpy as np"
   ]
  },
  {
   "cell_type": "markdown",
   "id": "42a35174-ee71-4cd1-b953-3e66bd08e11f",
   "metadata": {},
   "source": [
    "$1. \\textbf{u} = (1,-2,4)$ $\\textbf{v} = (3,5,1)$ $\\textbf{w} = (2,1,-3)$ <br>\n",
    "\n",
    "#### Latex Solution:\n",
    "<b>A</b>) $3\\textbf{u}-2\\textbf{v}$<br>\n",
    "$= 3[1,-2,4] - 2[3,5,1]$ <br>\n",
    "$= [3,-6,12] - [6,10,2]$ <br>\n",
    "$= [-3, 16, 10]$"
   ]
  },
  {
   "cell_type": "markdown",
   "id": "ae0715f2-fac8-4b27-b2ef-5ec52964a7af",
   "metadata": {},
   "source": [
    "<b>B</b>) $5 \\textbf{u} + 3 \\textbf{v} - 4 \\textbf{w}$ <br>\r\n",
    "$= 5[1,-2,4] + 3[3,5,1] - 4[2,1,-3]$ <br>\r\n",
    "$= [5,-10,20] + [9,15,3] - [8,4,-12]$ <br>\r\n",
    "$= [6,1,35]$"
   ]
  },
  {
   "cell_type": "markdown",
   "id": "14dc69fc-440c-4699-8787-1ab40c1531b5",
   "metadata": {},
   "source": [
    "<b>C</b>) $\\textbf{u . v, v . w, u . w}$<br>\n",
    "$\\textbf{u . v}$ <br>\n",
    "$= (1)(3) + (-2)(5) + (4)(1)$ <br>\n",
    "$= 3 - 10 + 4$<br>\n",
    "$= -3$<br>\n",
    "$\\textbf{v . w}$ <br>\n",
    "$= (3)(2) + (5)(1) + (1)(-3)$<br>\n",
    "$= 6 + 5 - 3$<br>\n",
    "$= 8$<br>\n",
    "$\\textbf{u . w}$ <br>\n",
    "$= (1)(2) + (-2)(1) + (4)(-3)$<br>\n",
    "$= 2 - 2 - 12$<br>\n",
    "$= -12$<br>"
   ]
  },
  {
   "cell_type": "markdown",
   "id": "97361d29-3a31-45a7-8c66-393120e66f4e",
   "metadata": {},
   "source": [
    "<b>D</b>) $||\\textbf{u}||, ||\\textbf{v}||, ||\\textbf{w}||$ <br>\n",
    "||$\\textbf{u}$|| <br>\n",
    "$= \\sqrt{1^2 + (-2)^2 + 4^2}$ <br>\n",
    "$= \\sqrt{1 + 4 + 16}$ <br>\n",
    "$= \\sqrt{21}$ <br>\n",
    "||$\\textbf{v}$|| <br>\n",
    "$= \\sqrt{3^2 + 5^2 + 1^2}$ <br>\n",
    "$= \\sqrt{9 + 25 + 1}$ <br>\n",
    "$= \\sqrt{35}$ <br>\n",
    "||$\\textbf{v}$|| <br>\n",
    "$= \\sqrt{2^2 + 1^2 + (-3)^2}$<br>\n",
    "$= \\sqrt{4 + 1 + 9}$ <br>\n",
    "$= \\sqrt{14} $"
   ]
  },
  {
   "cell_type": "markdown",
   "id": "58f1abe0-0f9b-4bb3-853d-6728f8c7f89f",
   "metadata": {},
   "source": [
    "<b>E</b>) If ${\\theta}$ is the angle between u and v, find $\\cos{\\theta}$  <br>\n",
    "$\\frac{\\textbf{u} \\cdotp \\textbf{v}}{||\\textbf{u}|| \\ ||\\textbf{v}||}$ <br>\n",
    "$= \\frac{-3}{\\sqrt{21} \\sqrt{35}}$ <br>"
   ]
  },
  {
   "cell_type": "markdown",
   "id": "dd1d534d-6585-434c-bbe3-1b0fae7d84f9",
   "metadata": {},
   "source": [
    "<b>F</b>) If $\\alpha$ is the angle between v and w, find $\\cos{\\alpha}$ <br>\r\n",
    "$\\frac{\\textbf{v} \\cdotp \\textbf{w}}{||\\textbf{v}|| \\ ||\\textbf{w}||}$ <br>\r\n",
    "$= \\frac{8}{/\\sqrt{35}\\sqrt{14}}$ <br>"
   ]
  },
  {
   "cell_type": "markdown",
   "id": "00688f63-1258-4461-9b4c-ab776e2b7223",
   "metadata": {},
   "source": [
    "<b>G</b>) If $\\beta$ is the angle between u and w, find $\\cos{\\beta}$ <br>\r\n",
    "$\\frac{\\textbf{u} \\cdotp \\textbf{w}}{||\\textbf{u}|| \\ ||\\textbf{w}||}$ <br>\r\n",
    "$= \\frac{-12}{/\\sqrt{21}\\sqrt{14}}$ <br>"
   ]
  },
  {
   "cell_type": "markdown",
   "id": "f847875d-2dfd-4997-bff6-caf6e09233a1",
   "metadata": {},
   "source": [
    "<b>H</b>) Find $d(u,v)$ <br>\n",
    "$= ||\\textbf{u - v}||$ <br>\n",
    "$= \\sqrt{(1-3)^2 + (-2-5)^2 + (4-1)^2}$ <br>\n",
    "$= \\sqrt{(-2)^2 + (-7)^2 + (3)^2}$ <br>\n",
    "$= \\sqrt{4 + 49 + 9}$ <br>\n",
    "$= \\sqrt{62}$"
   ]
  },
  {
   "cell_type": "markdown",
   "id": "30b13c9f-3dde-4300-9d60-55640e399996",
   "metadata": {},
   "source": [
    "<b>I</b>) Find $d(w,v)$ <br>\n",
    "$= ||\\textbf{w - v}||$ <br>\n",
    "$= \\sqrt{(2-3)^2 + (1-5)^2 + (-3-1)^2}$ <br>\n",
    "$= \\sqrt{(-1)^2 + (47)^2 + (-4)^2}$ <br>\n",
    "$= \\sqrt{1 + 16 + 16}$ <br>\n",
    "$= \\sqrt{33}$"
   ]
  },
  {
   "cell_type": "markdown",
   "id": "a2bf968e-853e-49b5-839f-bdfa0bf62695",
   "metadata": {},
   "source": [
    "<b>J</b>) Find $d(u,w)$ <br>\n",
    "$= ||\\textbf{u - w}||$ <br>\n",
    "$= \\sqrt{(1-2)^2 + (-2-1)^2 + (4+3)^2}$ <br>\n",
    "$= \\sqrt{(-1)^2 + (-3)^2 + (7)^2}$ <br>\n",
    "$= \\sqrt{1 + 9 + 49}$ <br>\n",
    "$= \\sqrt{59}$"
   ]
  },
  {
   "cell_type": "markdown",
   "id": "b5eb185f-ea00-49c1-a55c-ac068c0ff541",
   "metadata": {},
   "source": [
    "<b>K</b>) Find $proj(u,v)$ <br>\r\n",
    "$\\frac{u.v}{||v||^2} v $ <br>\r\n",
    "$u.v = -3$<br>\r\n",
    "$||v|| =\\sqrt{35}$<br>\r\n",
    "$\\frac{-3}{35}(3,5,1) $<br>\r\n",
    "$(\\frac{-9}{35}, \\frac{-15}{35}, \\frac{-3}{35})$"
   ]
  },
  {
   "cell_type": "markdown",
   "id": "8642f5a6-b697-417d-8747-a55e23c7515d",
   "metadata": {},
   "source": [
    "<b>L</b>) Find $proj(w,v)$ <br>\r\n",
    "$\\frac{w.v}{||v||^2} v $ <br>\r\n",
    "$w.v = 8$<br>\r\n",
    "$||v|| =\\sqrt{35}$<br>\r\n",
    "$\\frac{8}{35}(3,5,1) $<br>\r\n",
    "$(\\frac{24}{35}, \\frac{40}{35}, \\frac{8}{35})$"
   ]
  },
  {
   "cell_type": "markdown",
   "id": "8c3044bb-3640-4283-baf7-085464a4bc66",
   "metadata": {},
   "source": [
    "<b>M</b>) Find $proj(u,w)$ <br>\n",
    "$\\frac{u.w}{||w||^2} v $ <br>\n",
    "$u.w = -12$<br>\n",
    "$||w|| =\\sqrt{14}$<br>\n",
    "$\\frac{-12}{14}(2,1,-3) $<br>\n",
    "$(\\frac{-24}{14}, \\frac{-12}{14}, \\frac{36}{14})$ <br>\n",
    "### Python Solution:"
   ]
  },
  {
   "cell_type": "code",
   "execution_count": 46,
   "id": "9b53b5ab-bd50-4269-ac72-6250dbaf077d",
   "metadata": {},
   "outputs": [
    {
     "name": "stdout",
     "output_type": "stream",
     "text": [
      "3u-2v:  [ -3 -16  10]\n"
     ]
    }
   ],
   "source": [
    "u = np.array([1,-2,4])\n",
    "v = np.array([3,5,1])\n",
    "w = np.array([2,1,-3])\n",
    "\n",
    "#A)\n",
    "print(\"3u-2v: \", (3*u) - (2*v))"
   ]
  },
  {
   "cell_type": "code",
   "execution_count": 16,
   "id": "88f13dc3-a263-4123-932a-1d90447018ac",
   "metadata": {},
   "outputs": [
    {
     "name": "stdout",
     "output_type": "stream",
     "text": [
      "5u + 3v - 4w:  [ 6  1 35]\n"
     ]
    }
   ],
   "source": [
    "#B)\n",
    "print(\"5u + 3v - 4w: \", (5*u) + (3*v) - (4*w))"
   ]
  },
  {
   "cell_type": "code",
   "execution_count": 18,
   "id": "4d1d397c-9ab4-4b72-b1ad-4b1931c71fc1",
   "metadata": {},
   "outputs": [
    {
     "name": "stdout",
     "output_type": "stream",
     "text": [
      "u.v =  -3\n",
      "v.w =  8\n",
      "u.w =  -12\n"
     ]
    }
   ],
   "source": [
    "#C)\n",
    "print(\"u.v = \", u.dot(v))\n",
    "print(\"v.w = \", v.dot(w))\n",
    "print(\"u.w = \", u.dot(w))"
   ]
  },
  {
   "cell_type": "code",
   "execution_count": 20,
   "id": "21ed8595-2839-4c6d-98dd-acb2868eb44f",
   "metadata": {},
   "outputs": [
    {
     "name": "stdout",
     "output_type": "stream",
     "text": [
      "||u|| =  4.58257569495584\n",
      "||v|| =  5.916079783099616\n",
      "||w|| =  3.7416573867739413\n"
     ]
    }
   ],
   "source": [
    "#D)\n",
    "print(\"||u|| = \",np.sqrt(u.dot(u)))\n",
    "print(\"||v|| = \",np.sqrt(v.dot(v)))\n",
    "print(\"||w|| = \",np.sqrt(w.dot(w)))"
   ]
  },
  {
   "cell_type": "code",
   "execution_count": 26,
   "id": "057576a1-8d0a-48da-9aa4-b1cff0a62e00",
   "metadata": {},
   "outputs": [
    {
     "name": "stdout",
     "output_type": "stream",
     "text": [
      "Angle:  -0.11065666703449763\n"
     ]
    }
   ],
   "source": [
    "#E)\n",
    "print(\"Angle: \", u.dot(v) / (np.linalg.norm(u) * np.linalg.norm(v)))"
   ]
  },
  {
   "cell_type": "code",
   "execution_count": 25,
   "id": "9b7c2cf6-aff3-4290-b4a1-fcfe22fe91d2",
   "metadata": {},
   "outputs": [
    {
     "name": "stdout",
     "output_type": "stream",
     "text": [
      "Angle:  0.36140316116210053\n"
     ]
    }
   ],
   "source": [
    "#F)\n",
    "print(\"Angle: \", v.dot(w) / (np.linalg.norm(v) * np.linalg.norm(w)))"
   ]
  },
  {
   "cell_type": "code",
   "execution_count": 29,
   "id": "b74fb7ee-c59c-4948-8868-e982fbc1430d",
   "metadata": {},
   "outputs": [
    {
     "name": "stdout",
     "output_type": "stream",
     "text": [
      "Angle:  -0.6998542122237653\n"
     ]
    }
   ],
   "source": [
    "#G)\n",
    "print(\"Angle: \", u.dot(w) / (np.linalg.norm(u) * np.linalg.norm(w)))"
   ]
  },
  {
   "cell_type": "code",
   "execution_count": 31,
   "id": "dbe7758b-4ab6-4857-9c2a-c4f5dfb442a1",
   "metadata": {},
   "outputs": [
    {
     "name": "stdout",
     "output_type": "stream",
     "text": [
      "d(u,v):  7.874007874011811\n"
     ]
    }
   ],
   "source": [
    "#H)\n",
    "print(\"d(u,v): \", np.linalg.norm(u-v))"
   ]
  },
  {
   "cell_type": "code",
   "execution_count": 32,
   "id": "55b54617-1518-4fc0-818c-0aa56a6b7f25",
   "metadata": {},
   "outputs": [
    {
     "name": "stdout",
     "output_type": "stream",
     "text": [
      "d(w,v):  5.744562646538029\n"
     ]
    }
   ],
   "source": [
    "#I)\n",
    "print(\"d(w,v): \", np.linalg.norm(w-v))"
   ]
  },
  {
   "cell_type": "code",
   "execution_count": 33,
   "id": "6a27c97e-38b3-4043-b415-6981417c0164",
   "metadata": {},
   "outputs": [
    {
     "name": "stdout",
     "output_type": "stream",
     "text": [
      "d(u,w):  7.681145747868608\n"
     ]
    }
   ],
   "source": [
    "#J)\n",
    "print(\"d(u,w): \", np.linalg.norm(u-w))"
   ]
  },
  {
   "cell_type": "code",
   "execution_count": 34,
   "id": "6d89768a-40c5-4010-83de-01c15c599158",
   "metadata": {},
   "outputs": [
    {
     "name": "stdout",
     "output_type": "stream",
     "text": [
      "proj(u,v):  [-0.25714286 -0.42857143 -0.08571429]\n",
      "proj(u,v):  [-0.2571428571428571, -0.42857142857142855, -0.08571428571428572]\n"
     ]
    }
   ],
   "source": [
    "#K)\n",
    "print(\"proj(u,v): \", u.dot(v)*v / (np.linalg.norm(v)**2) )\n",
    "print(\"proj(u,v): \", [-9/35, -15/35, -3/35] )"
   ]
  },
  {
   "cell_type": "code",
   "execution_count": 35,
   "id": "70b4813d-4568-4465-8898-a187b5c90c29",
   "metadata": {},
   "outputs": [
    {
     "name": "stdout",
     "output_type": "stream",
     "text": [
      "proj(w,v):  [0.68571429 1.14285714 0.22857143]\n",
      "proj(w,v):  [0.6857142857142857, 1.1428571428571428, 0.22857142857142856]\n"
     ]
    }
   ],
   "source": [
    "#L)\n",
    "print(\"proj(w,v): \", w.dot(v)*v / (np.linalg.norm(v)**2) )\n",
    "print(\"proj(w,v): \", [24/35, 40/35, 8/35] )"
   ]
  },
  {
   "cell_type": "code",
   "execution_count": 36,
   "id": "c3be0bc7-3ada-4345-87b6-5a7d92d253a2",
   "metadata": {},
   "outputs": [
    {
     "name": "stdout",
     "output_type": "stream",
     "text": [
      "proj(u,w):  [-1.71428571 -0.85714286  2.57142857]\n",
      "proj(w,v):  [-1.7142857142857142, -0.8571428571428571, 2.5714285714285716]\n"
     ]
    }
   ],
   "source": [
    "#M)\n",
    "print(\"proj(u,w): \", u.dot(w)*w / (np.linalg.norm(w)**2) )\n",
    "print(\"proj(w,v): \", [-24/14, -12/14, 36/14] )"
   ]
  },
  {
   "cell_type": "markdown",
   "id": "1dd8ac98-3e54-46aa-b26a-4edeb0a4104a",
   "metadata": {},
   "source": [
    "<br>$2.$ Repeat problem 1 with the following column vectors <br>\n",
    "\n",
    " $\\textbf{u}$ = $\\begin{bmatrix}          \n",
    "           1 \\\\\n",
    "           3 \\\\\n",
    "           -4\n",
    "           \\end{bmatrix}$\n",
    " $\\textbf{v}$ = $\\begin{bmatrix}\n",
    "           2 \\\\\n",
    "           1 \\\\\n",
    "           5\n",
    "           \\end{bmatrix}$\n",
    " $\\textbf{w}$ =  $\\begin{bmatrix}\n",
    "           3 \\\\\n",
    "           -2 \\\\\n",
    "           6\n",
    "           \\end{bmatrix}$"
   ]
  },
  {
   "cell_type": "markdown",
   "id": "3ca03848-cffa-43eb-a122-9c8ef1b04b40",
   "metadata": {},
   "source": [
    "### Latex Solution\n",
    "<b>A</b>) $3u - 2v$ <br>\n",
    "$= 3\\begin{bmatrix}          \n",
    "           1 \\\\\n",
    "           3 \\\\\n",
    "           -4\n",
    "           \\end{bmatrix}$ -\n",
    "           $2\\begin{bmatrix}\n",
    "           2 \\\\\n",
    "           1 \\\\\n",
    "           5\n",
    "           \\end{bmatrix}$ <br>\n",
    "           \n",
    "$= \\begin{bmatrix}          \n",
    "           3 \\\\\n",
    "           9 \\\\\n",
    "           -12\n",
    "           \\end{bmatrix}$ -\n",
    "           $\\begin{bmatrix}\n",
    "           4 \\\\\n",
    "           2 \\\\\n",
    "           10\n",
    "           \\end{bmatrix}$ <br>\n",
    "           \n",
    " $= \\begin{bmatrix}          \n",
    "           -1 \\\\\n",
    "           7\\\\\n",
    "           -22\n",
    "           \\end{bmatrix}$ "
   ]
  },
  {
   "cell_type": "markdown",
   "id": "92e37b00-1e65-46b1-bf38-68a5fc03200d",
   "metadata": {},
   "source": [
    "<b>B</b>) $5u + 3v - 4w$ <br>\n",
    "$= 5\\begin{bmatrix}          \n",
    "           1 \\\\\n",
    "           3 \\\\\n",
    "           -4\n",
    "           \\end{bmatrix}$ +\n",
    "           $3\\begin{bmatrix}\n",
    "           2 \\\\\n",
    "           1 \\\\\n",
    "           5\n",
    "           \\end{bmatrix}$  +\n",
    "           $2\\begin{bmatrix}\n",
    "           3 \\\\\n",
    "           -2\\\\ \n",
    "           6\n",
    "           \\end{bmatrix}$<br>\n",
    "           \n",
    "$= \\begin{bmatrix}          \n",
    "           5 \\\\\n",
    "           15 \\\\\n",
    "           -20\n",
    "           \\end{bmatrix}$ +\n",
    "           $\\begin{bmatrix}\n",
    "           6 \\\\\n",
    "           3 \\\\\n",
    "           15\n",
    "           \\end{bmatrix}$ - \n",
    "           $\\begin{bmatrix}\n",
    "           12\\\\\n",
    "           -8\\\\\n",
    "           24\n",
    "           \\end{bmatrix} $<br>\n",
    "           \n",
    "$= \\begin{bmatrix}          \n",
    "           -1 \\\\\n",
    "           26\\\\\n",
    "           -29\n",
    "           \\end{bmatrix}$ "
   ]
  },
  {
   "cell_type": "markdown",
   "id": "c4e4be41-bbee-4183-a1c1-36955c18e2e8",
   "metadata": {},
   "source": [
    "<b>C</b>) $u . v, v . w, u . w$<br>\r\n",
    "u . v = $\\begin{bmatrix}          \r\n",
    "           1 \\\\\r\n",
    "           3 \\\\\r\n",
    "           -4\r\n",
    "           \\end{bmatrix}$ +\r\n",
    "           $\\begin{bmatrix}\r\n",
    "           2 \\\\\r\n",
    "           1 \\\\\r\n",
    "           5\r\n",
    "           \\end{bmatrix}$ <br>\r\n",
    "$= -15$<br>\r\n",
    "v . w =  $\\begin{bmatrix}          \r\n",
    "           2 \\\\\r\n",
    "           1 \\\\\r\n",
    "           5\r\n",
    "           \\end{bmatrix}$ +\r\n",
    "           $\\begin{bmatrix}\r\n",
    "           3 \\\\\r\n",
    "           -2 \\\\\r\n",
    "           6\r\n",
    "           \\end{bmatrix}$ <br>\r\n",
    "$= 34$<br>\r\n",
    "u . w = $\\begin{bmatrix}          \r\n",
    "           1 \\\\\r\n",
    "           3 \\\\\r\n",
    "           -4\r\n",
    "           \\end{bmatrix}$ +\r\n",
    "           $\\begin{bmatrix}\r\n",
    "           3 \\\\\r\n",
    "           -2 \\\\\r\n",
    "           6\r\n",
    "           \\end{bmatrix}$ <br>\r\n",
    "$= -27$"
   ]
  },
  {
   "cell_type": "markdown",
   "id": "ae4e4155-17a7-4721-8300-d69fa924ce35",
   "metadata": {},
   "source": [
    "<b>D</b>) ||$\\textbf{u}$||, ||$\\textbf{v}$||, ||$\\textbf{w}$|| <br>\n",
    "$||u|| = \\sqrt{1^2 + 3^2 + (-4)^2}$ <br>\n",
    "$= \\sqrt{1 + 9 + 16} $ <br>\n",
    "$= \\sqrt{26} $<br>\n",
    "$||v|| = \\sqrt{2^2 + 1^2 + 5^2}$ <br>\n",
    "$= \\sqrt{4 + 1 + 25}$ <br>\n",
    "$= \\sqrt{30}$ <br>\n",
    "$||w|| = \\sqrt{3^2 + (-2)^2 + 6^2}$<br>\n",
    "$= \\sqrt{9 + 4 + 36}$ <br>\n",
    "$= \\sqrt{49}$ <br>\n",
    "$= 7$"
   ]
  },
  {
   "cell_type": "markdown",
   "id": "7e422c84-c6bd-4508-9a53-c81bee6e1ec9",
   "metadata": {},
   "source": [
    "<b>E</b>) If ${\\theta}$ is the angle between u and v, find $\\cos{\\theta}$  <br>\r\n",
    "$\\frac{\\textbf{u} \\cdotp \\textbf{v}}{||\\textbf{u}|| \\ ||\\textbf{v}||}$ <br>\r\n",
    "$= \\frac{-15}{/\\sqrt{26}\\sqrt{30}}$"
   ]
  },
  {
   "cell_type": "markdown",
   "id": "922ea5f4-4c74-41ab-a5cf-a5df0e34956e",
   "metadata": {},
   "source": [
    "<b>F</b>) If $\\alpha$ is the angle between v and w, find $\\cos{\\alpha}$ <br>\n",
    "$\\frac{\\textbf{v} \\cdotp \\textbf{w}}{||\\textbf{v}|| \\ ||\\textbf{w}||}$ <br>\n",
    "$= \\frac{34}{\\sqrt{30}\\sqrt{49}}$ <br>\n",
    "$= \\frac{34}{7\\sqrt{30}}$"
   ]
  },
  {
   "cell_type": "markdown",
   "id": "f2b1d895-98cc-481b-adab-a54a000adbd9",
   "metadata": {},
   "source": [
    "<b>G</b>) If $\\beta$ is the angle between u and w, find $\\cos{\\beta}$ <br>\n",
    "$\\frac{\\textbf{u} \\cdotp \\textbf{w}}{||\\textbf{u}|| \\ ||\\textbf{w}||}$ <br>\n",
    "$= \\frac{-27}{\\sqrt{26}\\sqrt{49}}$ <br>\n",
    "$= \\frac{-27}{7\\sqrt{26}}$"
   ]
  },
  {
   "cell_type": "markdown",
   "id": "3babced9-5cfd-4a82-9894-202347adacd8",
   "metadata": {},
   "source": [
    "<b>H</b>) Find $d(u,v)$ <br>\r\n",
    "$= ||u - v||$ <br>\r\n",
    "$= \\sqrt{(1-2)^2 + (3-1)^2 + (-4-5)^2}$ <br>\r\n",
    "$= \\sqrt{(-1)^2 + (2)^2 + (-9)^2}$ <br>\r\n",
    "$= \\sqrt{1 + 4 + 81}$ <br>\r\n",
    "$= \\sqrt{86}$"
   ]
  },
  {
   "cell_type": "markdown",
   "id": "44105a55-22e8-4e91-a71b-f2fbacf7286b",
   "metadata": {},
   "source": [
    "<b>I</b>) Find $d(w,v)$ <br>\n",
    "$= ||w - v||$ <br>\n",
    "$= \\sqrt{(3-2)^2 + (-2-1)^2 + (6-5)^2}$ <br>\n",
    "$= \\sqrt{(1)^2 + (-3)^2 + (1)^2}$ <br>\n",
    "$= \\sqrt{1 + 9 + 1}$ <br>\n",
    "$= \\sqrt{11}$"
   ]
  },
  {
   "cell_type": "markdown",
   "id": "ae41fa9c-6189-4675-800d-7bb73a5767c4",
   "metadata": {},
   "source": [
    "<b>J</b>) Find $d(u,w)$ <br>\r\n",
    "$= ||u - w||$ <br>\r\n",
    "$= \\sqrt{(1-3)^2 + (3+2)^2 + (-4-6)^2}$ <br>\r\n",
    "$= \\sqrt{(-2)^2 + 5^2 + (-10)^2}$ <br>\r\n",
    "$= \\sqrt{4 + 25 + 100}$ <br>\r\n",
    "$= \\sqrt{129}$"
   ]
  },
  {
   "cell_type": "markdown",
   "id": "a7025f99-c24f-4a8e-85d2-ff7ebf063f9e",
   "metadata": {},
   "source": [
    "<b>K</b>) Find $proj(u,v)$ <br>\n",
    "$\\frac{u.v}{||v||^2} v $ <br>\n",
    "$u.v = -15$<br>\n",
    "$||v|| =\\sqrt{30}$<br>\n",
    "$= \\frac{-15}{30}(2,1,5) $<br>\n",
    "$= (\\frac{-30}{30}, \\frac{-15}{30}, \\frac{-75}{30})$"
   ]
  },
  {
   "cell_type": "markdown",
   "id": "fcf03df7-49a8-491b-8fdc-4f6214d5866f",
   "metadata": {},
   "source": [
    "<b>L</b>) Find $proj(w,v)$ <br>\n",
    "$\\frac{w.v}{||v||^2} v $ <br>\n",
    "$w.v = 34$<br>\n",
    "$||v|| =\\sqrt{30}$<br>\n",
    "$= \\frac{34}{30}(2,1,5) $<br>\n",
    "$= (\\frac{68}{30}, \\frac{34}{30}, \\frac{170}{30})$"
   ]
  },
  {
   "cell_type": "markdown",
   "id": "513cdd1f-0779-4dd1-b7d4-26c9b5e9e232",
   "metadata": {},
   "source": [
    "<b>M</b>) Find $proj(u,w)$ <br>\n",
    "$\\frac{u.w}{||w||^2} v $ <br>\n",
    "$u.w = -27$<br>\n",
    "$||w|| =\\sqrt{49}$<br>\n",
    "$= \\frac{-27}{49}(3,-2,6) $<br>\n",
    "$= (\\frac{-81}{49}, \\frac{54}{49}, \\frac{-162}{49})$ <br>\n",
    "### Python Solution:"
   ]
  },
  {
   "cell_type": "code",
   "execution_count": 15,
   "id": "7e0b3f04-3f32-4e5c-9252-9c7d87a7c933",
   "metadata": {},
   "outputs": [
    {
     "name": "stdout",
     "output_type": "stream",
     "text": [
      "3u-2v:  [ -3 -16  10]\n"
     ]
    }
   ],
   "source": [
    "u = np.array([1,-2,4])\n",
    "v = np.array([3,5,1])\n",
    "w = np.array([2,1,-3])\n",
    "#A)\n",
    "print(\"3u-2v: \", (3*u) - (2*v))"
   ]
  },
  {
   "cell_type": "code",
   "execution_count": 38,
   "id": "721ef3e0-0daa-47fb-b72e-8a634ffb6fdb",
   "metadata": {},
   "outputs": [
    {
     "name": "stdout",
     "output_type": "stream",
     "text": [
      "5u + 3v - 4w:  [ -1  26 -29]\n"
     ]
    }
   ],
   "source": [
    "#B)\n",
    "print(\"5u + 3v - 4w: \", (5*u) + (3*v) - (4*w))"
   ]
  },
  {
   "cell_type": "code",
   "execution_count": 39,
   "id": "da01c024-695c-49bc-bb29-423b1c67ccb1",
   "metadata": {},
   "outputs": [
    {
     "name": "stdout",
     "output_type": "stream",
     "text": [
      "u.v =  -15\n",
      "v.w =  34\n",
      "u.w =  -27\n"
     ]
    }
   ],
   "source": [
    "#C)\n",
    "print(\"u.v = \", u.dot(v))\n",
    "print(\"v.w = \", v.dot(w))\n",
    "print(\"u.w = \", u.dot(w))"
   ]
  },
  {
   "cell_type": "code",
   "execution_count": 40,
   "id": "6835e4d2-8a2e-4ac7-aa48-0b33678a860c",
   "metadata": {},
   "outputs": [
    {
     "name": "stdout",
     "output_type": "stream",
     "text": [
      "||u|| =  5.0990195135927845\n",
      "||v|| =  5.477225575051661\n",
      "||w|| =  7.0\n"
     ]
    }
   ],
   "source": [
    "#D)\n",
    "print(\"||u|| = \",np.sqrt(u.dot(u)))\n",
    "print(\"||v|| = \",np.sqrt(v.dot(v)))\n",
    "print(\"||w|| = \",np.sqrt(w.dot(w)))"
   ]
  },
  {
   "cell_type": "code",
   "execution_count": 42,
   "id": "464b2ecf-eac7-4a54-a09c-ce11c9de3233",
   "metadata": {},
   "outputs": [
    {
     "name": "stdout",
     "output_type": "stream",
     "text": [
      "Angle:  -0.5370861555295747\n"
     ]
    }
   ],
   "source": [
    "#E)\n",
    "print(\"Angle: \", u.dot(v) / (np.linalg.norm(u) * np.linalg.norm(v)))"
   ]
  },
  {
   "cell_type": "code",
   "execution_count": 44,
   "id": "ca52ec08-91c7-47fb-b6bf-f74c090f7139",
   "metadata": {},
   "outputs": [
    {
     "name": "stdout",
     "output_type": "stream",
     "text": [
      "Angle:  0.8867889026274118\n"
     ]
    }
   ],
   "source": [
    "#F)\n",
    "print(\"Angle: \", v.dot(w) / (np.linalg.norm(v) * np.linalg.norm(w)))"
   ]
  },
  {
   "cell_type": "code",
   "execution_count": 45,
   "id": "12f583ea-7215-44bd-a588-7b207e18e514",
   "metadata": {},
   "outputs": [
    {
     "name": "stdout",
     "output_type": "stream",
     "text": [
      "Angle:  -0.7564479498187099\n"
     ]
    }
   ],
   "source": [
    "#G)\n",
    "print(\"Angle: \", u.dot(w) / (np.linalg.norm(u) * np.linalg.norm(w)))"
   ]
  },
  {
   "cell_type": "code",
   "execution_count": 49,
   "id": "f76a906e-92a1-448f-bdab-e8404e2f0819",
   "metadata": {},
   "outputs": [
    {
     "name": "stdout",
     "output_type": "stream",
     "text": [
      "d(u,v):  7.874007874011811\n"
     ]
    }
   ],
   "source": [
    "#H)\n",
    "print(\"d(u,v): \", np.linalg.norm(u-v))"
   ]
  },
  {
   "cell_type": "code",
   "execution_count": 16,
   "id": "c0818f71-2f5a-4726-8114-59fb87224b8e",
   "metadata": {},
   "outputs": [
    {
     "name": "stdout",
     "output_type": "stream",
     "text": [
      "d(w,v):  5.744562646538029\n"
     ]
    }
   ],
   "source": [
    "#I)\n",
    "print(\"d(w,v): \", np.linalg.norm(w-v))"
   ]
  },
  {
   "cell_type": "code",
   "execution_count": 52,
   "id": "2ea7dae9-1940-4716-b361-2a852b83d788",
   "metadata": {},
   "outputs": [
    {
     "name": "stdout",
     "output_type": "stream",
     "text": [
      "d(u,w):  7.681145747868608\n"
     ]
    }
   ],
   "source": [
    "#J)\n",
    "print(\"d(u,w): \", np.linalg.norm(u-w))"
   ]
  },
  {
   "cell_type": "code",
   "execution_count": 53,
   "id": "cd1b407b-2ebb-415d-974f-ed5a3a78a341",
   "metadata": {},
   "outputs": [
    {
     "name": "stdout",
     "output_type": "stream",
     "text": [
      "proj(u,v):  [-0.25714286 -0.42857143 -0.08571429]\n",
      "proj(u,v):  [-1.0, -0.5, -2.5]\n"
     ]
    }
   ],
   "source": [
    "#K)\n",
    "print(\"proj(u,v): \", u.dot(v)*v / (np.linalg.norm(v)**2) )\n",
    "print(\"proj(u,v): \", [-30/30, -15/30, -75/30] )"
   ]
  },
  {
   "cell_type": "code",
   "execution_count": 54,
   "id": "e1985b97-85bb-478f-b52c-0c0acae34480",
   "metadata": {},
   "outputs": [
    {
     "name": "stdout",
     "output_type": "stream",
     "text": [
      "proj(w,v):  [0.68571429 1.14285714 0.22857143]\n",
      "proj(w,v):  [2.2666666666666666, 1.1333333333333333, 5.666666666666667]\n"
     ]
    }
   ],
   "source": [
    "#L)\n",
    "print(\"proj(w,v): \", w.dot(v)*v / (np.linalg.norm(v)**2) )\n",
    "print(\"proj(w,v): \", [68/30, 34/30, 170/30] )"
   ]
  },
  {
   "cell_type": "code",
   "execution_count": 56,
   "id": "23783c47-d920-4a5b-b88e-3218c65055a6",
   "metadata": {},
   "outputs": [
    {
     "name": "stdout",
     "output_type": "stream",
     "text": [
      "proj(u,w):  [-1.71428571 -0.85714286  2.57142857]\n",
      "proj(w,v):  [-1.653061224489796, 1.1020408163265305, -3.306122448979592]\n"
     ]
    }
   ],
   "source": [
    "#M)\n",
    "print(\"proj(u,w): \", u.dot(w)*w / (np.linalg.norm(w)**2) )\n",
    "print(\"proj(w,v): \", [-81/49, 54/49, -162/49] )"
   ]
  },
  {
   "cell_type": "markdown",
   "id": "2e894810-a40e-45e1-b8db-438b5950c76c",
   "metadata": {},
   "source": [
    "<br>$3$. Let $\\textbf{u} = (2,-5,4,6,-3)$, $\\textbf{v} = (5,-2,1,-7,-4)$, and $\\textbf{w} = (2,1,-3)$ find:<br>\n",
    "### Latex Solution\n",
    "<b>A</b>) $4u - 3v$ <br>\n",
    "$= 4[2,-,5,4,6,-3] - 3[5,-2,1,-7,-4]$ <br>\n",
    "$= [8,-20,16,24,-12] - [15,-6,3,-21,-12]$ <br>\n",
    "$= [-7,-14,13,45,0]$"
   ]
  },
  {
   "cell_type": "markdown",
   "id": "ab781695-789d-450f-8d8d-7a3c1400e815",
   "metadata": {},
   "source": [
    "<b>B</b>) $5u + 2v -2w$ <br>\n",
    "$= 5[2,-5,4,6,-3] + 2[5,-2,1,-7,-4] - 2[2,1,-3]$ <br>\n",
    "$= [10,-25,20,30,-15] + [10,-4,2,-14,-8] - [4,2,-6]$ <br>\n",
    "$= [16,-31,28,16,-23]$"
   ]
  },
  {
   "cell_type": "markdown",
   "id": "5892e469-6336-45a3-acf7-3247592fc2c0",
   "metadata": {},
   "source": [
    "<b>C</b>) Find $u.v, v.w, u.w$ <br>\n",
    "$u.v = (2)(5) + (-5)(-2) + (4)(1) + (6)(-7) + (-3)(-4)$ <br>\n",
    "$= 10 + 10 + 4 - 42 + 12$ <br>\n",
    "$= -6$ <br>\n",
    "$v.w = (5)(2) + (-2)(1) + (1)(-3) + (-7)(0) + (-4)(0)$ <br>\n",
    "$= 10 - 2 - 3$ <br>\n",
    "$= 5$ <br>\n",
    "$u.w = (2)(2) + (-5)(1) + (4)(-3) + (6)(0) + (-3)(0)$ <br>\n",
    "$= 4 - 5 - 12$ <br>\n",
    "$= -13$"
   ]
  },
  {
   "cell_type": "markdown",
   "id": "29ab7bc7-5266-451f-a435-bb3c01038336",
   "metadata": {},
   "source": [
    "<b>D</b>) $||u||, ||v||, ||w||$ <br>\n",
    "$||u|| = \\sqrt{2^2 + (-5)^2 + 4^2 + 6^2 + (-3)^2}$ <br>\n",
    "$= \\sqrt{4 + 25 + 16 + 36 + 9}$ <br>\n",
    "$= \\sqrt{90}$ <br>\n",
    "$||v|| = \\sqrt{5^2 + (-2)^2 + 1^2 + (-7)^2 + (-4)^2}$ <br>\n",
    "$= \\sqrt{25 + 4 + 1 + 49 + 16}$ <br>\n",
    "$= \\sqrt{95}$ <br>\n",
    "$||w|| = \\sqrt{2^2 + 1^2 + (-3)^2}$<br>\n",
    "$= \\sqrt{4 + 1 + 9}$ <br>\n",
    "$= \\sqrt{14}$"
   ]
  },
  {
   "cell_type": "markdown",
   "id": "84de8afc-bd0b-4a89-b301-d590301988bb",
   "metadata": {},
   "source": [
    "<b>E</b>) If ${\\theta}$ is the angle between u and v, find $\\cos{\\theta}$  <br>\n",
    "$\\frac{\\textbf{u} \\cdotp \\textbf{v}}{||\\textbf{u}|| \\ ||\\textbf{v}||}$ <br>\n",
    "$= \\frac{-6}{\\sqrt{90}\\sqrt{95}}$ <br>\n"
   ]
  },
  {
   "cell_type": "markdown",
   "id": "c286a133-8ad7-4395-95eb-26b5e0e9c7b7",
   "metadata": {},
   "source": [
    "<b>F</b>) If $\\alpha$ is the angle between v and w, find $\\cos{\\alpha}$ <br>\n",
    "$\\frac{\\textbf{v} \\cdotp \\textbf{w}}{||\\textbf{v}|| \\ ||\\textbf{w}||}$ <br>\n",
    "$= \\frac{5}{\\sqrt{95}\\sqrt{14}}$"
   ]
  },
  {
   "cell_type": "markdown",
   "id": "e60f7bcd-6aa4-452f-ac57-f20a3434e012",
   "metadata": {},
   "source": [
    "<b>G</b>) If $\\beta$ is the angle between u and w, find $\\cos{\\beta}$ <br>\n",
    "$\\frac{\\textbf{u} \\cdotp \\textbf{w}}{||\\textbf{u}|| \\ ||\\textbf{w}||}$ <br>\n",
    "$= \\frac{-13}{\\sqrt{90}\\sqrt{14}}$"
   ]
  },
  {
   "cell_type": "markdown",
   "id": "d3c05288-7b89-4fe8-b1e5-00836340b39d",
   "metadata": {},
   "source": [
    "<b>H</b>) Find $d(u,v)$ <br>\n",
    "$= ||u - v||$ <br>\n",
    "$= \\sqrt{(2-5)^2 + (-5+2)^2 + (4-1)^2 + (6+7)^2 + (-3+4)^2}$ <br>\n",
    "$= \\sqrt{(-3)^2 + (-3)^2 + (3)^2 + (13)^2 + (1)^2}$ <br>\n",
    "$= \\sqrt{9 + 9 + 9 + 169 + 1}$ <br>\n",
    "$= \\sqrt{197}$"
   ]
  },
  {
   "cell_type": "markdown",
   "id": "8c6efd3a-341a-42da-b932-0289b84189eb",
   "metadata": {},
   "source": [
    "<b>I</b>) Find $d(w,v)$ <br>\n",
    "$= ||w - v||$ <br>\n",
    "$= \\sqrt{(2-5)^2 + (1+2)^2 + (-3-1)^2 + (0+7)^2 + (0+4)^2}$ <br>\n",
    "$= \\sqrt{(-3)^2 + (3)^2 + (-4)^2 + 7^2 + 4^2}$ <br>\n",
    "$= \\sqrt{9 + 9 + 16 + 49 + 16}$ <br>\n",
    "$= \\sqrt{99}$"
   ]
  },
  {
   "cell_type": "markdown",
   "id": "78ec053d-d862-4cef-abc9-6558459a918d",
   "metadata": {},
   "source": [
    "<b>J</b>) Find $d(u,w)$ <br>\r\n",
    "$= ||u - w||$ <br>\r\n",
    "$= \\sqrt{(2-2)^2 + (-5-1)^2 + (4+3)^2 + (6-0)^2 + (-3-0)^2}$ <br>\r\n",
    "$= \\sqrt{(0)^2 + (-6)^2 + (7)^2 + 6^2 + (-3)^2}$ <br>\r\n",
    "$= \\sqrt{0 + 36 + 49 + 36 + 9}$ <br>\r\n",
    "$= \\sqrt{130}$"
   ]
  },
  {
   "cell_type": "markdown",
   "id": "9abda396-df57-4323-82da-1bd96decf12f",
   "metadata": {},
   "source": [
    "<b>K</b>) Find $proj(u,v)$ <br>\n",
    "$\\frac{u.v}{||v||^2} v $ <br>\n",
    "$u.v = -6$<br>\n",
    "$||v|| =\\sqrt{95}$<br>\n",
    "$= \\frac{-6}{95}(5,-2,1,-7,-4) $<br>\n",
    "$= (\\frac{-30}{95}, \\frac{12}{95}, \\frac{-6}{95}, \\frac{42}{95}, \\frac{24}{95})$"
   ]
  },
  {
   "cell_type": "markdown",
   "id": "46ddc877-9571-4030-8b5e-83c305c9db21",
   "metadata": {},
   "source": [
    "<b>L</b>) Find $proj(w,v)$ <br>\n",
    "$\\frac{w.v}{||v||^2} v $ <br>\n",
    "$w.v = 5$<br>\n",
    "$||v|| =\\sqrt{95}$<br>\n",
    "$= \\frac{5}{95}(5,-2,1,-7,-4) $<br>\n",
    "$= (\\frac{25}{95}, \\frac{-10}{95}, \\frac{5}{95}, \\frac{-35}{95}, \\frac{-20}{95})$"
   ]
  },
  {
   "cell_type": "markdown",
   "id": "aac05c14-3a96-49af-a77d-a78e1e1be965",
   "metadata": {},
   "source": [
    "<b>M</b>) Find $proj(u,w)$ <br>\n",
    "$\\frac{u.w}{||w||^2} w $ <br>\n",
    "$u.w = -13$<br>\n",
    "$||w|| =\\sqrt{14}$<br>\n",
    "$= \\frac{-13}{14}(2,1,-3) $<br>\n",
    "$= (\\frac{-26}{14}, \\frac{-13}{14}, \\frac{39}{14})$<br>\n",
    "### Python Solution"
   ]
  },
  {
   "cell_type": "code",
   "execution_count": 20,
   "id": "cf70b47d-d590-4882-b311-bc9a917c3654",
   "metadata": {},
   "outputs": [
    {
     "name": "stdout",
     "output_type": "stream",
     "text": [
      "4u - 3v:  [ -7 -14  13  45   0]\n"
     ]
    }
   ],
   "source": [
    "u = np.array([2,-5,4,6,-3])\n",
    "v = np.array([5,-2,1,-7,-4])\n",
    "w = np.array([2,1,-3, 0,0])\n",
    "#A)\n",
    "print(\"4u - 3v: \", (4*u) - (3*v))"
   ]
  },
  {
   "cell_type": "code",
   "execution_count": 21,
   "id": "58677059-9751-4cef-985a-22a7bb5b89e0",
   "metadata": {},
   "outputs": [
    {
     "name": "stdout",
     "output_type": "stream",
     "text": [
      "5u + 2v - 2w:  [ 16 -31  28  16 -23]\n"
     ]
    }
   ],
   "source": [
    "#B)\n",
    "print(\"5u + 2v - 2w: \", (5*u) + (2*v) - (2*w))"
   ]
  },
  {
   "cell_type": "code",
   "execution_count": 22,
   "id": "f3999500-a90b-473d-81f4-d8d25138ec9a",
   "metadata": {},
   "outputs": [
    {
     "name": "stdout",
     "output_type": "stream",
     "text": [
      "u.v =  -6\n",
      "v.w =  5\n",
      "u.w =  -13\n"
     ]
    }
   ],
   "source": [
    "#C)\n",
    "print(\"u.v = \", u.dot(v))\n",
    "print(\"v.w = \", v.dot(w))\n",
    "print(\"u.w = \", u.dot(w))"
   ]
  },
  {
   "cell_type": "code",
   "execution_count": 23,
   "id": "9c7f1c87-9424-451b-b06c-852875819cc1",
   "metadata": {},
   "outputs": [
    {
     "name": "stdout",
     "output_type": "stream",
     "text": [
      "||u|| =  9.486832980505138\n",
      "||v|| =  9.746794344808963\n",
      "||w|| =  3.7416573867739413\n"
     ]
    }
   ],
   "source": [
    "#D)\n",
    "print(\"||u|| = \",np.sqrt(u.dot(u)))\n",
    "print(\"||v|| = \",np.sqrt(v.dot(v)))\n",
    "print(\"||w|| = \",np.sqrt(w.dot(w)))"
   ]
  },
  {
   "cell_type": "code",
   "execution_count": 25,
   "id": "d157cbd2-eb4a-4b2d-836d-4297c8e07925",
   "metadata": {},
   "outputs": [
    {
     "name": "stdout",
     "output_type": "stream",
     "text": [
      "Angle:  -0.06488856845230502\n"
     ]
    }
   ],
   "source": [
    "#E)\n",
    "print(\"Angle: \", u.dot(v) / (np.linalg.norm(u) * np.linalg.norm(v)))"
   ]
  },
  {
   "cell_type": "code",
   "execution_count": 28,
   "id": "197dae0d-fad4-4167-a1d8-4104dde9125f",
   "metadata": {},
   "outputs": [
    {
     "name": "stdout",
     "output_type": "stream",
     "text": [
      "Angle:  0.13710212427677046\n"
     ]
    }
   ],
   "source": [
    "#F)\n",
    "print(\"Angle: \", v.dot(w) / (np.linalg.norm(v) * np.linalg.norm(w)))"
   ]
  },
  {
   "cell_type": "code",
   "execution_count": 29,
   "id": "eb006911-c96e-48b0-b0ac-d30e9b266cd3",
   "metadata": {},
   "outputs": [
    {
     "name": "stdout",
     "output_type": "stream",
     "text": [
      "Angle:  -0.3662335103823572\n"
     ]
    }
   ],
   "source": [
    "#G)\n",
    "print(\"Angle: \", u.dot(w) / (np.linalg.norm(u) * np.linalg.norm(w)))"
   ]
  },
  {
   "cell_type": "code",
   "execution_count": 30,
   "id": "619b3cef-d8fc-4a6c-945f-ffd3f6147582",
   "metadata": {},
   "outputs": [
    {
     "name": "stdout",
     "output_type": "stream",
     "text": [
      "d(u,v):  14.035668847618199\n"
     ]
    }
   ],
   "source": [
    "#H)\n",
    "print(\"d(u,v): \", np.linalg.norm(u-v))"
   ]
  },
  {
   "cell_type": "code",
   "execution_count": 31,
   "id": "180aa623-d24b-496c-a345-d34d1cbd6b9d",
   "metadata": {},
   "outputs": [
    {
     "name": "stdout",
     "output_type": "stream",
     "text": [
      "d(w,v):  9.9498743710662\n"
     ]
    }
   ],
   "source": [
    "#I)\n",
    "print(\"d(w,v): \", np.linalg.norm(w-v))"
   ]
  },
  {
   "cell_type": "code",
   "execution_count": 32,
   "id": "80f5263f-6328-4403-a6fb-71a03fe9ad7c",
   "metadata": {},
   "outputs": [
    {
     "name": "stdout",
     "output_type": "stream",
     "text": [
      "d(u,w):  11.40175425099138\n"
     ]
    }
   ],
   "source": [
    "#J)\n",
    "print(\"d(u,w): \", np.linalg.norm(u-w))"
   ]
  },
  {
   "cell_type": "code",
   "execution_count": 35,
   "id": "747a5da4-fba9-4ca9-94d5-c196bf44818b",
   "metadata": {},
   "outputs": [
    {
     "name": "stdout",
     "output_type": "stream",
     "text": [
      "proj(u,v):  [-0.31578947  0.12631579 -0.06315789  0.44210526  0.25263158]\n",
      "proj(u,v):  [-0.3157894736842105, 0.12631578947368421, -0.06315789473684211, 0.4421052631578947, 0.25263157894736843]\n"
     ]
    }
   ],
   "source": [
    "#K)\n",
    "print(\"proj(u,v): \", u.dot(v)*v / (np.linalg.norm(v)**2) )\n",
    "print(\"proj(u,v): \", [-30/95, 12/95, -6/95, 42/95, 24/95] )"
   ]
  },
  {
   "cell_type": "code",
   "execution_count": 36,
   "id": "5d5af97a-255c-4e7e-9cdd-1e271c956661",
   "metadata": {},
   "outputs": [
    {
     "name": "stdout",
     "output_type": "stream",
     "text": [
      "proj(w,v):  [ 0.26315789 -0.10526316  0.05263158 -0.36842105 -0.21052632]\n",
      "proj(w,v):  [0.2631578947368421, -0.10526315789473684, 0.05263157894736842, -0.3684210526315789, -0.21052631578947367]\n"
     ]
    }
   ],
   "source": [
    "#L)\n",
    "print(\"proj(w,v): \", w.dot(v)*v / (np.linalg.norm(v)**2) )\n",
    "print(\"proj(w,v): \", [25/95, -10/95, 5/95, -35/95, -20/95] )"
   ]
  },
  {
   "cell_type": "code",
   "execution_count": 37,
   "id": "78ce6079-7a7e-432e-a52f-c0b0b80d06e5",
   "metadata": {},
   "outputs": [
    {
     "name": "stdout",
     "output_type": "stream",
     "text": [
      "proj(u,w):  [-1.85714286 -0.92857143  2.78571429  0.          0.        ]\n",
      "proj(w,v):  [-1.8571428571428572, -0.9285714285714286, 2.7857142857142856]\n"
     ]
    }
   ],
   "source": [
    "#M)\n",
    "print(\"proj(u,w): \", u.dot(w)*w / (np.linalg.norm(w)**2) )\n",
    "print(\"proj(w,v): \", [-26/14, -13/14, 39/14] )"
   ]
  },
  {
   "cell_type": "markdown",
   "id": "f6e0934a-64e5-431a-a18b-e0dfe32b4c3f",
   "metadata": {},
   "source": [
    "<br>$4$. Normalize each vector <br>\n",
    "a. $\\textbf{u}$ = (5,-7).<br>\n",
    "b. $\\textbf{v}$ = (1,2,-2,4).<br>\n",
    "c. $\\textbf{w} = (\\frac{1}{2},\\frac{-1}{3},\\frac{3}{4})$.<br>\n",
    "### Latex Solution\n",
    "<b>A</b>) $u = (5,7)$ <br>\n",
    "$u' = \\frac{u}{||u||}$ <br>\n",
    "$||u||= \\sqrt{5^2 + (-7)^2}$ <br>\n",
    "$= \\sqrt{25 + 49}$ <br>\n",
    "$= \\sqrt{74}$ <br>\n",
    "$u' = (\\frac{5}{\\sqrt{74}}, \\frac{-7}{\\sqrt{74}})$ <br>"
   ]
  },
  {
   "cell_type": "markdown",
   "id": "39872a00-95ad-4b41-ab0d-2bfd87f706c4",
   "metadata": {},
   "source": [
    "<b>B</b>) $v = (1,2,-2,4)$ <br>\r\n",
    "$v' = \\frac{v}{||v||}$ <br>\r\n",
    "$||v||= \\sqrt{1^2 + 2^2 + (-2)^2 + 4^2}$ <br>\r\n",
    "$= \\sqrt{1 + 4 + 4 + 16}$ <br>\r\n",
    "$= \\sqrt{25}$ <br>\r\n",
    "$= 5$ <br>\r\n",
    "$v' = (\\frac{1}{5}, \\frac{2}{5}, \\frac{-2}{5}, \\frac{4}{5})$ <br>"
   ]
  },
  {
   "cell_type": "markdown",
   "id": "6f440f64-7ef0-4dfb-ae5b-2b2d276efa90",
   "metadata": {},
   "source": [
    "<b>C</b>) $w = (\\frac{1}{2}, \\frac{-1}{3}, \\frac{3}{4})$ <br>\n",
    "$w' = \\frac{w}{||w||}$ <br>\n",
    "$||w||= \\sqrt{(\\frac{1}{2})^2 + (\\frac{-1}{3})^2 + (\\frac{3}{4})^2}$ <br>\n",
    "$= \\sqrt{\\frac{1}{4} + \\frac{1}{9} + \\frac{9}{16}}$ <br>\n",
    "$= \\sqrt{\\frac{133}{144}}$ <br>\n",
    "$= \\frac{\\sqrt{133}}{12}$ <br>\n",
    "$w' = (\\frac{6\\sqrt{133}}{133}, -\\frac{4\\sqrt{133}}{133}, \\frac{9\\sqrt{133}}{133})$ <br>\n",
    "### Python Solution"
   ]
  },
  {
   "cell_type": "code",
   "execution_count": 11,
   "id": "6b4fbcce-19d1-439e-92c8-3456a412e135",
   "metadata": {},
   "outputs": [
    {
     "name": "stdout",
     "output_type": "stream",
     "text": [
      "u':  [0.58123819 0.81373347]\n",
      "v':  [ 0.2  0.4 -0.4  0.8]\n",
      "w':  [ 0.52026598 -0.34684399  0.78039897]\n"
     ]
    }
   ],
   "source": [
    "u = np.array([5,7])\n",
    "v = np.array([1,2,-2,4])\n",
    "w = np.array([1/2, -1/3, 3/4])\n",
    "print(\"u': \", u/np.linalg.norm(u))\n",
    "print(\"v': \", v/np.linalg.norm(v))\n",
    "print(\"w': \", w/np.linalg.norm(w))"
   ]
  },
  {
   "cell_type": "markdown",
   "id": "8948de05-d1ca-46b1-b1c3-0b0d0974e63b",
   "metadata": {},
   "source": [
    "<br>\n",
    "$5.$ Let $\\textbf{u} = (1,2,-2)$,$\\textbf{v} = (3,-12,4)$ and a scalar $k = -3$: <br>\n",
    "Find $||u||, ||v||, ||u+v||, ||ku||$.<br>"
   ]
  },
  {
   "cell_type": "markdown",
   "id": "d3d8cf5a-6ff5-47e4-abed-190eb7406309",
   "metadata": {},
   "source": [
    "### Latex Solution\n",
    "$||u|| = \\sqrt{1^2 + 2^2 + (-2)^2}$ <br>\n",
    "$= \\sqrt{1 + 4 + 4} $ <br>\n",
    "$= \\sqrt{9} $<br>\n",
    "$= 3$<br>\n",
    "$||v|| = \\sqrt{3^2 + -12^2 + 4^2}$ <br>\n",
    "$= \\sqrt{9 + 144 + 16}$ <br>\n",
    "$= \\sqrt{169}$ <br>\n",
    "$= 13$<br>\n",
    "$||u+v|| = \\sqrt{(1+3)^2 + (2-12)^2 + (-2+4)^2}$ <br>\n",
    "$= \\sqrt{4^2 + -10^2 + 2^2}$\n",
    "$= \\sqrt{16 + 100 + 4} $<br>\n",
    "$= \\sqrt{120}$<br>\n",
    "$||ku|| = |-3| \\cdotp ||u||$ <br>\n",
    "$= 3 \\cdotp 3$ <br>\n",
    "$= 9 $\n",
    "### Python Solution"
   ]
  },
  {
   "cell_type": "code",
   "execution_count": 27,
   "id": "3b64e24c-8700-41b5-b8ea-0829ef196e54",
   "metadata": {},
   "outputs": [
    {
     "name": "stdout",
     "output_type": "stream",
     "text": [
      "||u|| =  3.0\n",
      "||v|| =  13.0\n",
      "||u+v|| =  10.954451150103322\n",
      "||ku|| =  9.0\n"
     ]
    }
   ],
   "source": [
    "u = np.array([1,2,-2])\n",
    "v = np.array([3,-12,4])\n",
    "k = -3\n",
    "print(\"||u|| = \",np.sqrt(u.dot(u)))\n",
    "print(\"||v|| = \",np.sqrt(v.dot(v)))\n",
    "print(\"||u+v|| = \", np.linalg.norm(u+v))\n",
    "print(\"||ku|| = \", np.linalg.norm(k*u))"
   ]
  },
  {
   "cell_type": "markdown",
   "id": "2c19cf0d-c954-45c6-89b0-a71b658b1cf7",
   "metadata": {},
   "source": [
    "$6$. Find $k$ so that $u$ and $v$ are orthogonal <br>\n",
    "a. $\\textbf{u} = (3, k, -2), \\textbf{v} = (6, -4, -3)$.<br>\n",
    "b. $\\textbf{u} = (5,k,-4,2), \\textbf{v} = (1,-3,2,2k)$.<br>\n",
    "c. $\\textbf{u} = (1,7,k+2,-2), \\textbf{v} = (3, k, -3,k)$.<br>\n",
    "\n",
    "### Latex Solution\n",
    "$a. u = (3,k,-2) v = (6,-4,-3)$ <br>\n",
    "$= 3(6) + k(-4) + (-2)(-3) = 0$ <br>\n",
    "$= 18 - 4k + 6 = 0$ <br>\n",
    "$= 18 + 6 = 4k$ <br>\n",
    "$= 24 = 4k$ <br>\n",
    "$k = 6$ <br>\n",
    "\n",
    "$b. u = (5,k,-4,2) v = (1,-3,2,2k)$ <br>\n",
    "$= 5(1) + k(-3) + (-4)(2) + 2(2k) = 0$ <br>\n",
    "$= 5 -3k - 8 + 4k = 0$ <br>\n",
    "$= -3k + 4k = -5 + 8$ <br>\n",
    "$k = 3$ <br>\n",
    "\n",
    "$c. u = (1,7,k+2, -2) v = (3,k,-3,k)$ <br>\n",
    "$= 1(3) + 7(k) + (k+2)(-3) + (-2)(k) = 0$ <br>\n",
    "$= 3 + 7k - 3k - 6 - 2k = 0$ <br>\n",
    "$= 7k - 3k - 2k = -3 + 6$ <br>\n",
    "$2k = 3$ <br>\n",
    "$k = \\frac{3}{2}$ <br>\n",
    "### Python Solution"
   ]
  },
  {
   "cell_type": "code",
   "execution_count": 41,
   "id": "0fd7068c-b7da-4a3b-a6ac-26ee1d9769bb",
   "metadata": {},
   "outputs": [
    {
     "name": "stdout",
     "output_type": "stream",
     "text": [
      "Dot product if k = 6:  0.0\n"
     ]
    }
   ],
   "source": [
    "#A)\n",
    "k = 6\n",
    "u = np.array([3, k, -2])\n",
    "v = np.array([6, -4, -3])\n",
    "dot_product = np.dot(u, v) / np.dot(u, u)\n",
    "print(\"Dot product if k = 6: \", dot_product)"
   ]
  },
  {
   "cell_type": "code",
   "execution_count": 43,
   "id": "246d0cb3-0d8b-4e91-9263-84dc38d8ebd2",
   "metadata": {},
   "outputs": [
    {
     "name": "stdout",
     "output_type": "stream",
     "text": [
      "Dot product if k = 3:  0.0\n"
     ]
    }
   ],
   "source": [
    "#B)\n",
    "k = 3\n",
    "u = np.array([5, k, -4, 2])\n",
    "v = np.array([1, -3, 2, 2*k])\n",
    "dot_product = np.dot(u, v) / np.dot(u, u)\n",
    "print(\"Dot product if k = 3: \", dot_product)"
   ]
  },
  {
   "cell_type": "code",
   "execution_count": 47,
   "id": "6eb621d3-b0e6-4b75-b16e-2c3a3b9ef891",
   "metadata": {},
   "outputs": [
    {
     "name": "stdout",
     "output_type": "stream",
     "text": [
      "Dot product if k = 3/2:  0.0\n"
     ]
    }
   ],
   "source": [
    "#C)\n",
    "k = 3/2\n",
    "u = np.array([1, 7, k+2, -2])\n",
    "v = np.array([3, k, -3, k])\n",
    "dot_product = np.dot(u, v) / np.dot(u, u)\n",
    "print(\"Dot product if k = 3/2: \", dot_product)"
   ]
  }
 ],
 "metadata": {
  "kernelspec": {
   "display_name": "Python 3 (ipykernel)",
   "language": "python",
   "name": "python3"
  },
  "language_info": {
   "codemirror_mode": {
    "name": "ipython",
    "version": 3
   },
   "file_extension": ".py",
   "mimetype": "text/x-python",
   "name": "python",
   "nbconvert_exporter": "python",
   "pygments_lexer": "ipython3",
   "version": "3.11.5"
  }
 },
 "nbformat": 4,
 "nbformat_minor": 5
}
